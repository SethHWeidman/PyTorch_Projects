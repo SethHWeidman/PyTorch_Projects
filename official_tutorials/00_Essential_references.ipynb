{
 "cells": [
  {
   "cell_type": "markdown",
   "metadata": {},
   "source": [
    "* List of [`nn` options](http://pytorch.org/docs/stable/nn.html).\n",
    "* List of [`nn.functional` functions](http://pytorch.org/docs/stable/nn.html#torch-nn-functional).\n",
    "\n",
    "* Loss functions: [here](http://pytorch.org/docs/nn.html#loss-functions).\n",
    "* Optimizers: [here](http://pytorch.org/docs/stable/optim.html).\n",
    "\n",
    "* List of `torchvision` [`transforms`](http://pytorch.org/docs/stable/torchvision/transforms.html)\n",
    "* List of `torchvision` [`datasets`](http://pytorch.org/docs/stable/torchvision/datasets.html)"
   ]
  }
 ],
 "metadata": {
  "kernelspec": {
   "display_name": "Python 3",
   "language": "python",
   "name": "python3"
  },
  "language_info": {
   "codemirror_mode": {
    "name": "ipython",
    "version": 3
   },
   "file_extension": ".py",
   "mimetype": "text/x-python",
   "name": "python",
   "nbconvert_exporter": "python",
   "pygments_lexer": "ipython3",
   "version": "3.6.5"
  }
 },
 "nbformat": 4,
 "nbformat_minor": 2
}
